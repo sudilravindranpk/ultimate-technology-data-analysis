{
  "nbformat": 4,
  "nbformat_minor": 0,
  "metadata": {
    "colab": {
      "name": "Ultimate Technologies- Experiment and Metrics Design.ipynb",
      "provenance": [],
      "collapsed_sections": []
    },
    "kernelspec": {
      "name": "python3",
      "display_name": "Python 3"
    },
    "language_info": {
      "name": "python"
    }
  },
  "cells": [
    {
      "cell_type": "markdown",
      "metadata": {
        "id": "xSiEJnR_R5P3"
      },
      "source": [
        "The neighboring cities of Gotham and Metropolis have complementary circadian rhythms: on\n",
        "weekdays, Ultimate Gotham is most active at night, and Ultimate Metropolis is most active\n",
        "during the day. On weekends, there is reasonable activity in both cities.\n",
        "However, a toll bridge, with a two­way toll, between the two cities causes driver partners to tend\n",
        "to be exclusive to each city. The Ultimate managers of city operations for the two cities have\n",
        "proposed an experiment to encourage driver partners to be available in both cities, by\n",
        "reimbursing all toll costs."
      ]
    },
    {
      "cell_type": "markdown",
      "metadata": {
        "id": "ox3M-OBDR9FG"
      },
      "source": [
        "    1. What would you choose as the key measure of success of this experiment in\n",
        "    encouraging driver partners to serve both cities, and why would you choose this metric?"
      ]
    },
    {
      "cell_type": "markdown",
      "metadata": {
        "id": "d3uBN1kyR_9-"
      },
      "source": [
        "Looking at the details provided I have identified few important factors that have triggered  Ultimate Managers to experiment  (reimbusrsing all toll cost)\n",
        "\n",
        "1. Gotham aand Metropolis  have complementary cicadian rhythms , meaning their active times are complemantary. \n",
        "\n",
        "2. Toll between two cities is limiting the driver partners to move between the cities. This means there will be a reduction in intercity travel and there by negatively impacting the revenue. This also would lead to high supply of driver partners in one particular city and low in another city - This could be purely based on the favourable environment provided by the city, it can be a differnce of fare per kilometers , fuel cost and the drivers available in sample population. \n",
        "3. By removing the toll price Ultimate is favouring inter city commute. Now the drivers need to think only about meeting the demand and increaasing the revenue.Driver need not worry thinking whether the trip will be profitable or not. Ultimate also can make sure that demands in both the cities are met.\n",
        "\n",
        "\n",
        "Now let us look at the quantifiable elements\n",
        "\n",
        "1. The revenue increase for the Drivers\n",
        "2. Number of times the drivers cross the toll to meet the demand in both cities\n",
        "3. the Average wait time in both the cities\n",
        "\n",
        "We should have the above details prior to the toll removal expirement and after the experiment , so that we can do a comparative study.This will help us in understanding how much the situation have become favourable after removing the toll.\n",
        "\n",
        "After having these numbers in hand Ultimate will be able to see whether the toll reimbursment action have helped in gaining extra revenue and meeting the demand.\n"
      ]
    },
    {
      "cell_type": "markdown",
      "metadata": {
        "id": "Vpfc4vmFYdqY"
      },
      "source": [
        "    2. Describe a practical experiment you would design to compare the effectiveness of the\n",
        "    proposed change in relation to the key measure of success. Please provide details on:\n",
        "\n",
        "\n",
        "    a. how you will implement the experiment ?"
      ]
    },
    {
      "cell_type": "markdown",
      "metadata": {
        "id": "XrR0GaVRZfLW"
      },
      "source": [
        "Few key things we should be ready with before starting the experiment are\n",
        "\n",
        "1. Average wait time in both the cities (hourly)\n",
        "2. Average Total number of inter city commute in a day (both weekdays and week ends)\n",
        "3. Average profit/loss of a driver during an inter city commute\n",
        "4. Demands in both the cities (hourly) as both the cities operate in different time.\n",
        "5. population to driver ratio\n",
        "\n",
        "\n",
        "once we have full analytics on the above information we can do the same study after enforcing the new policy and understant how much effective it is."
      ]
    },
    {
      "cell_type": "markdown",
      "metadata": {
        "id": "AKWEDHmrcEC7"
      },
      "source": [
        "    b. what statistical test(s) you will conduct to verify the significance of the observation ?"
      ]
    },
    {
      "cell_type": "markdown",
      "metadata": {
        "id": "RiHCVUKLcTzh"
      },
      "source": [
        "We will come up with a set of null hypothesis\n",
        "\n",
        "1. The propotion of drivers crossing the toll is same before and after the toll price removal experiment\n",
        "2. There is no difference in average wait time before and after the toll price removal experiment"
      ]
    },
    {
      "cell_type": "markdown",
      "metadata": {
        "id": "CDtEzT3hdYgH"
      },
      "source": [
        "    c. how you would interpret the results and provide recommendations to the city operations team along with any caveats.?"
      ]
    },
    {
      "cell_type": "markdown",
      "metadata": {
        "id": "lBT86WRqebqw"
      },
      "source": [
        "If we are able to reject the above mentioned null hypothesis, then we can say that paying drivers toll was an effective intervention and the demand is met.\n",
        "\n",
        "If we see that the null hypothesis is still valid, we have to identify the reason that is still preventing the driver from crossing the toll and take necessary actions around the same.\n",
        "\n",
        "My suggestions to the operation team will be to have a proper analysis on the data available, also get extra datas that favours/doesn't favour the drivers in both the cities, may be just reducing the toll alone may not help much. \n",
        "\n",
        "If toll price removal is not helping , what are the other actions that we can think of ?  may be the company branding should be improved which could lead more customers opting our service, or some advertisements should be done explaining the benifits the customers would get opting our service for an intercity comute compared to other services, provide some discounts to the customers that would increase the demand which would eventualy make the driver move between the cities.  Does the above mentioned actions along with toll removal helps? we can think of many such business strategies."
      ]
    },
    {
      "cell_type": "code",
      "metadata": {
        "id": "JIZbIc67eaTX"
      },
      "source": [
        ""
      ],
      "execution_count": 2,
      "outputs": []
    }
  ]
}